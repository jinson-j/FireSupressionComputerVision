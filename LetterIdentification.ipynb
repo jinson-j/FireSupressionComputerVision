{
 "cells": [
  {
   "cell_type": "code",
   "execution_count": 2,
   "id": "12cea05f-85f0-4c88-8aa7-0b42f75a5279",
   "metadata": {
    "tags": []
   },
   "outputs": [
    {
     "name": "stdout",
     "output_type": "stream",
     "text": [
      "1/1 [==============================] - 1s 642ms/step\n",
      "Class: C\n",
      "Confidence Score: 77 %\n",
      "\n",
      "1/1 [==============================] - 0s 31ms/step\n",
      "Class: C\n",
      "Confidence Score: 62 %\n",
      "\n",
      "1/1 [==============================] - 0s 33ms/step\n",
      "Class: C\n",
      "Confidence Score: 59 %\n",
      "\n",
      "1/1 [==============================] - 0s 34ms/step\n",
      "Class: C\n",
      "Confidence Score: 71 %\n",
      "\n",
      "1/1 [==============================] - 0s 38ms/step\n",
      "Class: C\n",
      "Confidence Score: 69 %\n",
      "\n",
      "1/1 [==============================] - 0s 33ms/step\n",
      "Class: C\n",
      "Confidence Score: 69 %\n",
      "\n",
      "1/1 [==============================] - 0s 37ms/step\n",
      "Class: C\n",
      "Confidence Score: 67 %\n",
      "\n"
     ]
    },
    {
     "ename": "NameError",
     "evalue": "name 'Copy' is not defined",
     "output_type": "error",
     "traceback": [
      "\u001b[1;31m---------------------------------------------------------------------------\u001b[0m",
      "\u001b[1;31mNameError\u001b[0m                                 Traceback (most recent call last)",
      "Cell \u001b[1;32mIn[2], line 55\u001b[0m\n\u001b[0;32m     53\u001b[0m camera\u001b[38;5;241m.\u001b[39mrelease()\n\u001b[0;32m     54\u001b[0m cv2\u001b[38;5;241m.\u001b[39mdestroyAllWindows()\n\u001b[1;32m---> 55\u001b[0m Copy \n\u001b[0;32m     56\u001b[0m \u001b[38;5;241m200\u001b[39m\n\u001b[0;32m     57\u001b[0m \u001b[38;5;241m0.001\u001b[39m\n",
      "\u001b[1;31mNameError\u001b[0m: name 'Copy' is not defined"
     ]
    }
   ],
   "source": [
    "from keras.models import load_model  # TensorFlow is required for Keras to work\n",
    "import cv2  # Install opencv-python\n",
    "import numpy as np\n",
    "\n",
    "# Disable scientific notation for clarity\n",
    "np.set_printoptions(suppress=True)\n",
    "\n",
    "# Load the model\n",
    "model = load_model(\"keras_Model.h5\", compile=False)\n",
    "\n",
    "# Load the labels\n",
    "class_names = open(\"labels.txt\", \"r\").readlines()\n",
    "\n",
    "# CAMERA can be 0 or 1 based on default camera of your computer\n",
    "camera = cv2.VideoCapture(0)\n",
    "\n",
    "while True:\n",
    "    # Grab the webcamera's image.\n",
    "    ret, image = camera.read()\n",
    "\n",
    "    # Resize the raw image into (224-height,224-width) pixels\n",
    "    image = cv2.resize(image, (224, 224), interpolation=cv2.INTER_AREA)\n",
    "\n",
    "    # Show the image in a window\n",
    "    cv2.imshow(\"Webcam Image\", image)\n",
    "\n",
    "    # Make the image a numpy array and reshape it to the models input shape.\n",
    "    image = np.asarray(image, dtype=np.float32).reshape(1, 224, 224, 3)\n",
    "\n",
    "    # Normalize the image array\n",
    "    image = (image / 127.5) - 1\n",
    "\n",
    "    # Predicts the model\n",
    "    prediction = model.predict(image)\n",
    "    index = np.argmax(prediction)\n",
    "    class_name = class_names[index]\n",
    "    confidence_score = prediction[0][index]\n",
    "\n",
    "    # Print prediction and confidence score\n",
    "    \n",
    "    \n",
    "    print(\"Class:\", class_name[2:], end=\"\")\n",
    "    print(\"Confidence Score:\", str(np.round(confidence_score * 100))[:-2], \"%\")\n",
    "    \n",
    "    print(\"\\r\")\n",
    "    # Listen to the keyboard for presses.\n",
    "    keyboard_input = cv2.waitKey(1)\n",
    "\n",
    "    # 27 is the ASCII for the esc key on your keyboard.\n",
    "    if keyboard_input == 27:\n",
    "        break\n",
    "\n",
    "camera.release()\n",
    "cv2.destroyAllWindows()\n",
    "Copy \n",
    "200\n",
    "0.001"
   ]
  },
  {
   "cell_type": "code",
   "execution_count": null,
   "id": "a250416f-0812-4257-8374-06cf8011f948",
   "metadata": {},
   "outputs": [],
   "source": []
  }
 ],
 "metadata": {
  "kernelspec": {
   "display_name": "Python 3 (ipykernel)",
   "language": "python",
   "name": "python3"
  },
  "language_info": {
   "codemirror_mode": {
    "name": "ipython",
    "version": 3
   },
   "file_extension": ".py",
   "mimetype": "text/x-python",
   "name": "python",
   "nbconvert_exporter": "python",
   "pygments_lexer": "ipython3",
   "version": "3.11.5"
  }
 },
 "nbformat": 4,
 "nbformat_minor": 5
}
